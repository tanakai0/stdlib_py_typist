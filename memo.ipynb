{
 "cells": [
  {
   "cell_type": "markdown",
   "id": "8abbbe27-a8c6-4fd6-b629-84234056eca3",
   "metadata": {},
   "source": [
    "# タイピングゲーム"
   ]
  },
  {
   "cell_type": "markdown",
   "id": "e50fbca8-ff73-41d5-a14b-82d67edc01ee",
   "metadata": {},
   "source": [
    "# 文字列を Python プログラムからオフラインに取得できるか"
   ]
  },
  {
   "cell_type": "code",
   "execution_count": null,
   "id": "404bdb3e-1b5b-44cf-bc0c-bb9bc591fa33",
   "metadata": {},
   "outputs": [
    {
     "ename": "",
     "evalue": "",
     "output_type": "error",
     "traceback": [
      "\u001b[1;31m'c:\\Users\\tanakai\\AppData\\Local\\Programs\\Python\\Python311\\python.exe' でセルを実行するには、 ipykernel パッケージが必要です。\n",
      "\u001b[1;31mRun the following command to install 'ipykernel' into the Python environment. \n",
      "\u001b[1;31mCommand: 'c:/Users/tanakai/AppData/Local/Programs/Python/Python311/python.exe -m pip install ipykernel -U --user --force-reinstall'"
     ]
    }
   ],
   "source": [
    "import random\n",
    "import re\n",
    "import keyword\n",
    "import inspect\n",
    "import random\n",
    "import builtins\n",
    "import pprint\n",
    "\n",
    "# randomモジュールのコメントを取得する\n",
    "docstring = random.__doc__  # inspect.getdoc(random)\n",
    "comments = inspect.getcomments(pprint)\n",
    "source = inspect.getsource(random)\n",
    "print(docstring)\n",
    "print(comments)\n",
    "print(source[-1000:])\n",
    "\n",
    "# print([][0])\n",
    "# コメント内の単語を抽出する\n",
    "words = re.findall(r'\\b\\w+\\b', comments)\n",
    "\n",
    "# Pythonのキーワードや組み込み関数を除外する\n",
    "words = [word for word in words if not keyword.iskeyword(word) and word not in dir(builtins)]\n",
    "# 重複を除去する\n",
    "words = list(set(words))\n",
    "# リストをシャッフルする\n",
    "random.shuffle(words)\n",
    "\n",
    "print(words)"
   ]
  },
  {
   "cell_type": "code",
   "execution_count": 4,
   "id": "a2bddbe5-2db5-4749-875a-30678939dd57",
   "metadata": {},
   "outputs": [
    {
     "name": "stdout",
     "output_type": "stream",
     "text": [
      "s = \"\"\"Gur Mra bs Clguba, ol Gvz Crgref\n",
      "\n",
      "Ornhgvshy vf orggre guna htyl.\n",
      "Rkcyvpvg vf orggre guna vzcyvpvg.\n",
      "Fvzcyr vf orggre guna pbzcyrk.\n",
      "Pbzcyrk vf orggre guna pbzcyvpngrq.\n",
      "Syng vf orggre guna arfgrq.\n",
      "Fcnefr vf orggre guna qrafr.\n",
      "Ernqnovyvgl pbhagf.\n",
      "Fcrpvny pnfrf nera'g fcrpvny rabhtu gb oernx gur ehyrf.\n",
      "Nygubhtu cenpgvpnyvgl orngf chevgl.\n",
      "Reebef fubhyq arire cnff fvyragyl.\n",
      "Hayrff rkcyvpvgyl fvyraprq.\n",
      "Va gur snpr bs nzovthvgl, ershfr gur grzcgngvba gb thrff.\n",
      "Gurer fubhyq or bar-- naq cersrenoyl bayl bar --boivbhf jnl gb qb vg.\n",
      "Nygubhtu gung jnl znl abg or boivbhf ng svefg hayrff lbh'er Qhgpu.\n",
      "Abj vf orggre guna arire.\n",
      "Nygubhtu arire vf bsgra orggre guna *evtug* abj.\n",
      "Vs gur vzcyrzragngvba vf uneq gb rkcynva, vg'f n onq vqrn.\n",
      "Vs gur vzcyrzragngvba vf rnfl gb rkcynva, vg znl or n tbbq vqrn.\n",
      "Anzrfcnprf ner bar ubaxvat terng vqrn -- yrg'f qb zber bs gubfr!\"\"\"\n",
      "\n",
      "d = {}\n",
      "for c in (65, 97):\n",
      "    for i in range(26):\n",
      "        d[chr(i+c)] = chr((i+13) % 26 + c)\n",
      "\n",
      "print(\"\".join([d.get(c, c) for c in s]))\n",
      "\n"
     ]
    }
   ],
   "source": [
    "# Python zen の中身!?\n",
    "import this\n",
    "import inspect\n",
    "\n",
    "print(inspect.getsource(this))"
   ]
  },
  {
   "cell_type": "code",
   "execution_count": null,
   "id": "60c6f65e-64ae-461e-84e7-9ff7f799538e",
   "metadata": {},
   "outputs": [],
   "source": []
  },
  {
   "cell_type": "code",
   "execution_count": null,
   "id": "6c85a82b-1e3a-4640-91da-66d1528f0746",
   "metadata": {},
   "outputs": [],
   "source": []
  }
 ],
 "metadata": {
  "kernelspec": {
   "display_name": "Python 3 (ipykernel)",
   "language": "python",
   "name": "python3"
  },
  "language_info": {
   "codemirror_mode": {
    "name": "ipython",
    "version": 3
   },
   "file_extension": ".py",
   "mimetype": "text/x-python",
   "name": "python",
   "nbconvert_exporter": "python",
   "pygments_lexer": "ipython3",
   "version": "3.11.4"
  }
 },
 "nbformat": 4,
 "nbformat_minor": 5
}
