{
 "cells": [
  {
   "cell_type": "markdown",
   "id": "4bc4cc95",
   "metadata": {},
   "source": [
    "[標準ライブラリ一覧](https://docs.python.org/ja/3/library/index.html)"
   ]
  },
  {
   "cell_type": "markdown",
   "id": "8abbbe27-a8c6-4fd6-b629-84234056eca3",
   "metadata": {},
   "source": [
    "# タイピングゲーム"
   ]
  },
  {
   "cell_type": "code",
   "execution_count": null,
   "id": "c203ea2a",
   "metadata": {},
   "outputs": [],
   "source": [
    "    words = ['python', 'java', 'ruby', 'javascript', 'php', 'swift']\n",
    "    score = 0\n",
    "\n",
    "    while True:\n",
    "        word = random.choice(words)\n",
    "        print(f'文字列をタイプしてください：{word}')\n",
    "        start_time = time.time()\n",
    "        user_input = input().strip().lower()\n",
    "        end_time = time.time()\n",
    "        if user_input == 'q':\n",
    "            print('ゲームを終了します。')\n",
    "            break\n",
    "        elif user_input == word:\n",
    "            elapsed_time = end_time - start_time\n",
    "            score += len(word) / elapsed_time\n",
    "            print(f'正解です！ 今回の得点は {score:.2f} 点です。')\n",
    "        else:\n",
    "            print('不正解です。')\n",
    "\n",
    "        print(\"Hello, World!\")\n"
   ]
  },
  {
   "cell_type": "markdown",
   "id": "e50fbca8-ff73-41d5-a14b-82d67edc01ee",
   "metadata": {},
   "source": [
    "# 文字列を Python プログラムからオフラインに取得できるか"
   ]
  },
  {
   "cell_type": "code",
   "execution_count": 1,
   "id": "404bdb3e-1b5b-44cf-bc0c-bb9bc591fa33",
   "metadata": {},
   "outputs": [
    {
     "name": "stdout",
     "output_type": "stream",
     "text": [
      "Random variable generators.\n",
      "\n",
      "    bytes\n",
      "    -----\n",
      "           uniform bytes (values between 0 and 255)\n",
      "\n",
      "    integers\n",
      "    --------\n",
      "           uniform within range\n",
      "\n",
      "    sequences\n",
      "    ---------\n",
      "           pick random element\n",
      "           pick random sample\n",
      "           pick weighted random sample\n",
      "           generate random permutation\n",
      "\n",
      "    distributions on the real line:\n",
      "    ------------------------------\n",
      "           uniform\n",
      "           triangular\n",
      "           normal (Gaussian)\n",
      "           lognormal\n",
      "           negative exponential\n",
      "           gamma\n",
      "           beta\n",
      "           pareto\n",
      "           Weibull\n",
      "\n",
      "    distributions on the circle (angles 0 to 2pi)\n",
      "    ---------------------------------------------\n",
      "           circular uniform\n",
      "           von Mises\n",
      "\n",
      "General notes on the underlying Mersenne Twister core generator:\n",
      "\n",
      "* The period is 2**19937-1.\n",
      "* It is one of the most extensively tested generators in existence.\n",
      "* The random() method is implemented in C, executes in a single Python step,\n",
      "  and is, therefore, threadsafe.\n",
      "\n",
      "\n",
      "#  Author:      Fred L. Drake, Jr.\n",
      "#               fdrake@acm.org\n",
      "#\n",
      "#  This is a simple little module I wrote to make life easier.  I didn't\n",
      "#  see anything quite like it in the library, though I may have overlooked\n",
      "#  something.  I wrote this when I was trying to read some heavily nested\n",
      "#  tuples with fairly non-descriptive content.  This is modeled very much\n",
      "#  after Lisp/Scheme - style pretty-printing of lists.  If you find it\n",
      "#  useful, thank small children who sleep at night.\n",
      "\n",
      "r(N, random, ())\n",
      "    _test_generator(N, normalvariate, (0.0, 1.0))\n",
      "    _test_generator(N, lognormvariate, (0.0, 1.0))\n",
      "    _test_generator(N, vonmisesvariate, (0.0, 1.0))\n",
      "    _test_generator(N, gammavariate, (0.01, 1.0))\n",
      "    _test_generator(N, gammavariate, (0.1, 1.0))\n",
      "    _test_generator(N, gammavariate, (0.1, 2.0))\n",
      "    _test_generator(N, gammavariate, (0.5, 1.0))\n",
      "    _test_generator(N, gammavariate, (0.9, 1.0))\n",
      "    _test_generator(N, gammavariate, (1.0, 1.0))\n",
      "    _test_generator(N, gammavariate, (2.0, 1.0))\n",
      "    _test_generator(N, gammavariate, (20.0, 1.0))\n",
      "    _test_generator(N, gammavariate, (200.0, 1.0))\n",
      "    _test_generator(N, gauss, (0.0, 1.0))\n",
      "    _test_generator(N, betavariate, (3.0, 3.0))\n",
      "    _test_generator(N, triangular, (0.0, 1.0, 1.0 / 3.0))\n",
      "\n",
      "\n",
      "## ------------------------------------------------------\n",
      "## ------------------ fork support  ---------------------\n",
      "\n",
      "if hasattr(_os, \"fork\"):\n",
      "    _os.register_at_fork(after_in_child=_inst.seed)\n",
      "\n",
      "\n",
      "if __name__ == '__main__':\n",
      "    _test()\n",
      "\n",
      "['useful', 'sleep', 'small', 'I', 'non', 'wrote', 'simple', 'Drake', 'you', 'some', 'Fred', 'L', 'tuples', 'descriptive', 'make', 't', 'have', 'Author', 'org', 'module', 'Scheme', 'see', 'overlooked', 'nested', 'anything', 'a', 'Jr', 'read', 'at', 'If', 'this', 'modeled', 'of', 'something', 'fdrake', 'quite', 'was', 'Lisp', 'trying', 'printing', 'it', 'may', 'after', 'content', 'when', 'acm', 'very', 'easier', 'children', 'lists', 'find', 'much', 'library', 'to', 'This', 'like', 'life', 'little', 'who', 'thank', 'fairly', 'heavily', 'the', 'though', 'didn', 'pretty', 'style', 'night']\n"
     ]
    }
   ],
   "source": [
    "import random\n",
    "import re\n",
    "import keyword\n",
    "import inspect\n",
    "import random\n",
    "import builtins\n",
    "import pprint\n",
    "\n",
    "# randomモジュールのコメントを取得する\n",
    "docstring = random.__doc__  # inspect.getdoc(random)\n",
    "comments = inspect.getcomments(pprint)\n",
    "source = inspect.getsource(random)\n",
    "print(docstring)\n",
    "print(comments)\n",
    "print(source[-1000:])\n",
    "\n",
    "# print([][0])\n",
    "# コメント内の単語を抽出する\n",
    "words = re.findall(r'\\b\\w+\\b', comments)\n",
    "\n",
    "# Pythonのキーワードや組み込み関数を除外する\n",
    "words = [word for word in words if not keyword.iskeyword(word) and word not in dir(builtins)]\n",
    "# 重複を除去する\n",
    "words = list(set(words))\n",
    "# リストをシャッフルする\n",
    "random.shuffle(words)\n",
    "\n",
    "print(words)"
   ]
  },
  {
   "cell_type": "code",
   "execution_count": 4,
   "id": "a2bddbe5-2db5-4749-875a-30678939dd57",
   "metadata": {},
   "outputs": [
    {
     "name": "stdout",
     "output_type": "stream",
     "text": [
      "s = \"\"\"Gur Mra bs Clguba, ol Gvz Crgref\n",
      "\n",
      "Ornhgvshy vf orggre guna htyl.\n",
      "Rkcyvpvg vf orggre guna vzcyvpvg.\n",
      "Fvzcyr vf orggre guna pbzcyrk.\n",
      "Pbzcyrk vf orggre guna pbzcyvpngrq.\n",
      "Syng vf orggre guna arfgrq.\n",
      "Fcnefr vf orggre guna qrafr.\n",
      "Ernqnovyvgl pbhagf.\n",
      "Fcrpvny pnfrf nera'g fcrpvny rabhtu gb oernx gur ehyrf.\n",
      "Nygubhtu cenpgvpnyvgl orngf chevgl.\n",
      "Reebef fubhyq arire cnff fvyragyl.\n",
      "Hayrff rkcyvpvgyl fvyraprq.\n",
      "Va gur snpr bs nzovthvgl, ershfr gur grzcgngvba gb thrff.\n",
      "Gurer fubhyq or bar-- naq cersrenoyl bayl bar --boivbhf jnl gb qb vg.\n",
      "Nygubhtu gung jnl znl abg or boivbhf ng svefg hayrff lbh'er Qhgpu.\n",
      "Abj vf orggre guna arire.\n",
      "Nygubhtu arire vf bsgra orggre guna *evtug* abj.\n",
      "Vs gur vzcyrzragngvba vf uneq gb rkcynva, vg'f n onq vqrn.\n",
      "Vs gur vzcyrzragngvba vf rnfl gb rkcynva, vg znl or n tbbq vqrn.\n",
      "Anzrfcnprf ner bar ubaxvat terng vqrn -- yrg'f qb zber bs gubfr!\"\"\"\n",
      "\n",
      "d = {}\n",
      "for c in (65, 97):\n",
      "    for i in range(26):\n",
      "        d[chr(i+c)] = chr((i+13) % 26 + c)\n",
      "\n",
      "print(\"\".join([d.get(c, c) for c in s]))\n",
      "\n"
     ]
    }
   ],
   "source": [
    "# Python zen の中身!?\n",
    "import this\n",
    "import inspect\n",
    "\n",
    "print(inspect.getsource(this))"
   ]
  },
  {
   "cell_type": "code",
   "execution_count": 17,
   "id": "3d89bba3",
   "metadata": {},
   "outputs": [
    {
     "name": "stdout",
     "output_type": "stream",
     "text": [
      "['False',\n",
      " 'None',\n",
      " 'True',\n",
      " 'and',\n",
      " 'as',\n",
      " 'assert',\n",
      " 'async',\n",
      " 'await',\n",
      " 'break',\n",
      " 'class',\n",
      " 'continue',\n",
      " 'def',\n",
      " 'del',\n",
      " 'elif',\n",
      " 'else',\n",
      " 'except',\n",
      " 'finally',\n",
      " 'for',\n",
      " 'from',\n",
      " 'global',\n",
      " 'if',\n",
      " 'import',\n",
      " 'in',\n",
      " 'is',\n",
      " 'lambda',\n",
      " 'nonlocal',\n",
      " 'not',\n",
      " 'or',\n",
      " 'pass',\n",
      " 'raise',\n",
      " 'return',\n",
      " 'try',\n",
      " 'while',\n",
      " 'with',\n",
      " 'yield']\n"
     ]
    }
   ],
   "source": [
    "import keyword\n",
    "import pprint\n",
    "\n",
    "pprint.pprint(keyword.kwlist)"
   ]
  },
  {
   "cell_type": "code",
   "execution_count": null,
   "id": "60c6f65e-64ae-461e-84e7-9ff7f799538e",
   "metadata": {},
   "outputs": [],
   "source": []
  },
  {
   "cell_type": "markdown",
   "id": "2ca0b6ec",
   "metadata": {},
   "source": [
    "# テストデータベース作成"
   ]
  },
  {
   "cell_type": "code",
   "execution_count": 1,
   "id": "6c85a82b-1e3a-4640-91da-66d1528f0746",
   "metadata": {},
   "outputs": [],
   "source": [
    "import sqlite3\n",
    "\n",
    "conn = sqlite3.connect('typing_game.db')\n",
    "cursor = conn.cursor()\n",
    "\n",
    "cursor.execute('''\n",
    "CREATE TABLE IF NOT EXISTS text_typing (\n",
    "    question TEXT PRIMARY KEY,\n",
    "    explanation TEXT\n",
    ")\n",
    "''')\n",
    "text_list = [\n",
    "    ('house', '家を表す名詞'),\n",
    "    ('Python', 'インタープリンタ形式のプログラミング言語。機械学習の実装に向いている。'),\n",
    "    ('apple', 'りんごを表す名詞'),\n",
    "    ('cat', '猫を表す名詞'),\n",
    "    ('programming', 'プログラミングをする行為'),\n",
    "    ('dog', '犬を表す名詞'),\n",
    "    ('book', '本を表す名詞'),\n",
    "    ('computer', 'コンピュータを表す名詞'),\n",
    "    ('tree', '木を表す名詞'),\n",
    "    ('car', '車を表す名詞'),\n",
    "    ('python', '爬虫類のヘビを表す名詞'),\n",
    "    ('keyboard', 'キーボードを表す名詞'),\n",
    "    ('sky', '空を表す名詞'),\n",
    "    ('flower', '花を表す名詞'),\n",
    "    ('water', '水を表す名詞'),\n",
    "    ('moon', '月を表す名詞'),\n",
    "    ('sun', '太陽を表す名詞'),\n",
    "    ('earth', '地球を表す名詞'),\n",
    "    ('phone', '電話を表す名詞'),\n",
    "    ('music', '音楽を表す名詞')\n",
    "]\n",
    "\n",
    "\n",
    "for question, explanation in text_list:\n",
    "    cursor.execute('INSERT INTO text_typing (question, explanation) VALUES (?, ?)', (question, explanation))\n",
    "\n",
    "conn.commit()\n",
    "conn.close()\n"
   ]
  },
  {
   "cell_type": "markdown",
   "id": "d5a82682",
   "metadata": {},
   "source": [
    "# winsound"
   ]
  },
  {
   "cell_type": "code",
   "execution_count": 2,
   "id": "b18f0bf7",
   "metadata": {},
   "outputs": [
    {
     "name": "stdout",
     "output_type": "stream",
     "text": [
      "aaa\n"
     ]
    }
   ],
   "source": [
    "import winsound\n",
    "from pathlib import Path\n",
    "\n",
    "# beep\n",
    "winsound.Beep(1000, 1000) # 1000Hzのビープを100ms再生\n",
    "\n",
    "# wav file\n",
    "path = Path(\"./assets/sound/maou_se_magical28.wav\")\n",
    "with open(path, 'rb') as f:\n",
    "    data = f.read()\n",
    "winsound.PlaySound(data, winsound.SND_MEMORY)"
   ]
  },
  {
   "cell_type": "markdown",
   "id": "82571e21",
   "metadata": {},
   "source": [
    "# OS の種類の判定\n",
    "\n",
    "[参考1](https://www.python.ambitious-engineer.com/archives/3748)"
   ]
  },
  {
   "cell_type": "code",
   "execution_count": 11,
   "id": "6d007ddd",
   "metadata": {},
   "outputs": [
    {
     "name": "stdout",
     "output_type": "stream",
     "text": [
      "nt\n"
     ]
    }
   ],
   "source": [
    "import os\n",
    "os_name = os.name\n",
    "print(os_name)"
   ]
  },
  {
   "cell_type": "code",
   "execution_count": 13,
   "id": "bd6f3631",
   "metadata": {},
   "outputs": [
    {
     "name": "stdout",
     "output_type": "stream",
     "text": [
      "Windows\n",
      "uname_result(system='Windows', node='DESKTOP-BO0DGG1', release='10', version='10.0.19045', machine='AMD64')\n",
      "Windows\n",
      "10\n",
      "Intel64 Family 6 Model 165 Stepping 2, GenuineIntel\n"
     ]
    }
   ],
   "source": [
    "import platform\n",
    "s = platform.system()\n",
    "print(s)\n",
    "ur = platform.uname()\n",
    "print(ur)\n",
    "print(ur.system)\n",
    "print(ur.release)\n",
    "print(ur.processor)"
   ]
  },
  {
   "cell_type": "code",
   "execution_count": 14,
   "id": "d3cc8d3b",
   "metadata": {},
   "outputs": [
    {
     "name": "stdout",
     "output_type": "stream",
     "text": [
      "('10', '10.0.19045', 'SP0', 'Multiprocessor Free')\n",
      "Core\n",
      "False\n"
     ]
    }
   ],
   "source": [
    "v = platform.win32_ver()\n",
    "print(v)\n",
    " \n",
    "edition = platform.win32_edition()\n",
    "print(edition)\n",
    " \n",
    "is_iot = platform.win32_is_iot()\n",
    "print(is_iot)"
   ]
  },
  {
   "cell_type": "code",
   "execution_count": null,
   "id": "c029ea48",
   "metadata": {},
   "outputs": [],
   "source": []
  },
  {
   "cell_type": "code",
   "execution_count": null,
   "id": "b9dbe9b4",
   "metadata": {},
   "outputs": [],
   "source": []
  }
 ],
 "metadata": {
  "kernelspec": {
   "display_name": "Python 3 (ipykernel)",
   "language": "python",
   "name": "python3"
  },
  "language_info": {
   "codemirror_mode": {
    "name": "ipython",
    "version": 3
   },
   "file_extension": ".py",
   "mimetype": "text/x-python",
   "name": "python",
   "nbconvert_exporter": "python",
   "pygments_lexer": "ipython3",
   "version": "3.10.8"
  }
 },
 "nbformat": 4,
 "nbformat_minor": 5
}
